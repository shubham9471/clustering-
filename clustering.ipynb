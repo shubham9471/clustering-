{
 "cells": [
  {
   "cell_type": "markdown",
   "metadata": {
    "colab_type": "text",
    "id": "LSwelLE9wF_v"
   },
   "source": [
    "## Clustering on Graph Dataset"
   ]
  },
  {
   "cell_type": "code",
   "execution_count": null,
   "metadata": {
    "colab": {},
    "colab_type": "code",
    "id": "Lk-PNpkNIdcZ"
   },
   "outputs": [],
   "source": [
    "import networkx as nx\n",
    "from networkx.algorithms import bipartite\n",
    "import matplotlib.pyplot as plt\n",
    "from sklearn.cluster import KMeans\n",
    "import numpy as np\n",
    "import warnings\n",
    "warnings.filterwarnings(\"ignore\")\n",
    "import pandas as pd\n",
    "import seaborn as sns\n",
    "from stellargraph.data import UniformRandomMetaPathWalk\n",
    "from stellargraph import StellarGraph\n",
    "from gensim.models import Word2Vec\n",
    "from sklearn.cluster import KMeans"
   ]
  },
  {
   "cell_type": "code",
   "execution_count": null,
   "metadata": {
    "colab": {},
    "colab_type": "code",
    "id": "gSFrlSUNNmUT"
   },
   "outputs": [],
   "source": [
    "data=pd.read_csv(\"/content/drive/My Drive/Copy of movie_actor_network.csv\", index_col=False, names=['movie','actor'])"
   ]
  },
  {
   "cell_type": "code",
   "execution_count": null,
   "metadata": {
    "colab": {},
    "colab_type": "code",
    "id": "w0GXc76sWc72"
   },
   "outputs": [],
   "source": [
    "edges = [tuple(x) for x in data.values.tolist()]"
   ]
  },
  {
   "cell_type": "code",
   "execution_count": null,
   "metadata": {
    "colab": {},
    "colab_type": "code",
    "id": "rInmyhcs2HFi"
   },
   "outputs": [],
   "source": [
    "B = nx.Graph()\n",
    "B.add_nodes_from(data['movie'].unique(), bipartite=0, label='movie')\n",
    "B.add_nodes_from(data['actor'].unique(), bipartite=1, label='actor')\n",
    "B.add_edges_from(edges, label='acted')"
   ]
  },
  {
   "cell_type": "code",
   "execution_count": null,
   "metadata": {
    "colab": {},
    "colab_type": "code",
    "id": "pnQ43ENz2JmB"
   },
   "outputs": [],
   "source": [
    "A = (B.subgraph(c) for c in nx.connected_components(B))\n",
    "A = list(A)[0]"
   ]
  },
  {
   "cell_type": "code",
   "execution_count": null,
   "metadata": {
    "colab": {
     "base_uri": "https://localhost:8080/",
     "height": 51
    },
    "colab_type": "code",
    "id": "5Gzkntm72u1B",
    "outputId": "cdd4cd27-7b1d-4875-9c41-069ab1688166"
   },
   "outputs": [
    {
     "name": "stdout",
     "output_type": "stream",
     "text": [
      "number of nodes 4703\n",
      "number of edges 9650\n"
     ]
    }
   ],
   "source": [
    "print(\"number of nodes\", A.number_of_nodes())\n",
    "print(\"number of edges\", A.number_of_edges())"
   ]
  },
  {
   "cell_type": "code",
   "execution_count": null,
   "metadata": {
    "colab": {
     "base_uri": "https://localhost:8080/",
     "height": 319
    },
    "colab_type": "code",
    "id": "HFfhI2xm24XP",
    "outputId": "9be48a83-6750-4e8c-eb21-32fe33fd1d0f"
   },
   "outputs": [
    {
     "data": {
      "image/png": "[encoded data removed]",
      "text/plain": [
       "<Figure size 432x288 with 1 Axes>"
      ]
     },
     "metadata": {
      "tags": []
     },
     "output_type": "display_data"
    }
   ],
   "source": [
    "l, r = nx.bipartite.sets(A)\n",
    "pos = {}\n",
    "\n",
    "pos.update((node, (1, index)) for index, node in enumerate(l))\n",
    "pos.update((node, (2, index)) for index, node in enumerate(r))\n",
    "  \n",
    "nx.draw(A, pos=pos, with_labels=True)\n",
    "plt.show()"
   ]
  },
  {
   "cell_type": "code",
   "execution_count": null,
   "metadata": {
    "colab": {
     "base_uri": "https://localhost:8080/",
     "height": 51
    },
    "colab_type": "code",
    "id": "eFzljmG03ITQ",
    "outputId": "de73d627-c31a-419d-ced0-88d2457521ef"
   },
   "outputs": [
    {
     "name": "stdout",
     "output_type": "stream",
     "text": [
      "number of movies  1292\n",
      "number of actors  3411\n"
     ]
    }
   ],
   "source": [
    "movies = []\n",
    "actors = []\n",
    "for i in A.nodes():\n",
    "    if 'm' in i:\n",
    "        movies.append(i)\n",
    "    if 'a' in i:\n",
    "        actors.append(i)\n",
    "print('number of movies ', len(movies))\n",
    "print('number of actors ', len(actors))"
   ]
  },
  {
   "cell_type": "code",
   "execution_count": null,
   "metadata": {
    "colab": {
     "base_uri": "https://localhost:8080/",
     "height": 34
    },
    "colab_type": "code",
    "id": "VSwB3u-53Q_P",
    "outputId": "fcd72d78-41cf-4aaa-8ca7-ecb6195e18e6"
   },
   "outputs": [
    {
     "name": "stdout",
     "output_type": "stream",
     "text": [
      "Number of random walks: 4703\n"
     ]
    }
   ],
   "source": [
    "# Create the random walker\n",
    "rw = UniformRandomMetaPathWalk(StellarGraph(A))\n",
    "\n",
    "# specify the metapath schemas as a list of lists of node types.\n",
    "metapaths = [\n",
    "    [\"movie\", \"actor\", \"movie\"],\n",
    "    [\"actor\", \"movie\", \"actor\"]\n",
    "]\n",
    "\n",
    "walks = rw.run(nodes=list(A.nodes()), # root nodes\n",
    "               length=100,  # maximum length of a random walk\n",
    "               n=1,        # number of random walks per root node \n",
    "               metapaths=metapaths\n",
    "              )\n",
    "\n",
    "print(\"Number of random walks: {}\".format(len(walks)))"
   ]
  },
  {
   "cell_type": "code",
   "execution_count": null,
   "metadata": {
    "colab": {},
    "colab_type": "code",
    "id": "VReUD7Np5dCL"
   },
   "outputs": [],
   "source": [
    "model = Word2Vec(walks, size=128, window=5)"
   ]
  },
  {
   "cell_type": "code",
   "execution_count": null,
   "metadata": {
    "colab": {
     "base_uri": "https://localhost:8080/",
     "height": 34
    },
    "colab_type": "code",
    "id": "ebRbjWYe5me4",
    "outputId": "291dd0eb-cd73-4073-e173-d074dc605f7b"
   },
   "outputs": [
    {
     "data": {
      "text/plain": [
       "(4703, 128)"
      ]
     },
     "execution_count": 70,
     "metadata": {
      "tags": []
     },
     "output_type": "execute_result"
    }
   ],
   "source": [
    "model.wv.vectors.shape "
   ]
  },
  {
   "cell_type": "code",
   "execution_count": null,
   "metadata": {
    "colab": {},
    "colab_type": "code",
    "id": "cPxPC_Ej5pLd"
   },
   "outputs": [],
   "source": [
    "# Retrieve node embeddings and corresponding subjects\n",
    "node_ids = model.wv.index2word  # list of node IDs\n",
    "node_embeddings = model.wv.vectors  # numpy.ndarray of size number of nodes times embeddings dimensionality\n",
    "node_targets = [ A.nodes[node_id]['label'] for node_id in node_ids]"
   ]
  },
  {
   "cell_type": "code",
   "execution_count": null,
   "metadata": {
    "colab": {},
    "colab_type": "code",
    "id": "OxbI-aLr5w8n"
   },
   "outputs": [],
   "source": [
    "def data_split(node_ids,node_targets,node_embeddings):\n",
    "    '''In this function, we will split the node embeddings into actor_embeddings , movie_embeddings '''\n",
    "    actor_nodes,movie_nodes=[],[]\n",
    "    actor_embeddings,movie_embeddings=[],[]\n",
    "    for i in range(len(node_targets)):\n",
    "        if node_targets[i]=='actor':\n",
    "            actor_embeddings.append(node_embeddings[i])         #splitting the nodes \n",
    "            actor_nodes.append(node_ids[i])\n",
    "        if node_targets[i]=='movie':\n",
    "            movie_embeddings.append(node_embeddings[i]) \n",
    "            movie_nodes.append(node_ids[i])\n",
    "    return actor_nodes,movie_nodes,actor_embeddings,movie_embeddings"
   ]
  },
  {
   "cell_type": "code",
   "execution_count": null,
   "metadata": {
    "colab": {},
    "colab_type": "code",
    "id": "ujMzLA8HFSZz"
   },
   "outputs": [],
   "source": [
    "actor_nodes,movie_nodes,actor_embeddings,movie_embeddings=data_split(node_ids,node_targets,node_embeddings)"
   ]
  },
  {
   "cell_type": "markdown",
   "metadata": {
    "colab_type": "text",
    "id": "iuPZjG8dv6B2"
   },
   "source": [
    "<font color='cyan'>Grader function - 1</font>"
   ]
  },
  {
   "cell_type": "code",
   "execution_count": null,
   "metadata": {
    "colab": {
     "base_uri": "https://localhost:8080/",
     "height": 34
    },
    "colab_type": "code",
    "id": "xLj59Sj-E7aj",
    "outputId": "fd90ff2c-b04b-4dbc-c020-16922aa33944"
   },
   "outputs": [
    {
     "data": {
      "text/plain": [
       "True"
      ]
     },
     "execution_count": 75,
     "metadata": {
      "tags": []
     },
     "output_type": "execute_result"
    }
   ],
   "source": [
    "def grader_actors(data):\n",
    "    assert(len(data)==3411)\n",
    "    return True\n",
    "grader_actors(actor_nodes)"
   ]
  },
  {
   "cell_type": "markdown",
   "metadata": {
    "colab_type": "text",
    "id": "U678DtBAv9eK"
   },
   "source": [
    "<font color='cyan'>Grader function - 2</font>"
   ]
  },
  {
   "cell_type": "code",
   "execution_count": null,
   "metadata": {
    "colab": {
     "base_uri": "https://localhost:8080/",
     "height": 34
    },
    "colab_type": "code",
    "id": "kKAy-OrhFQ4m",
    "outputId": "daa8d6ad-1cdd-478b-fa62-eff0350ae5d4"
   },
   "outputs": [
    {
     "data": {
      "text/plain": [
       "True"
      ]
     },
     "execution_count": 76,
     "metadata": {
      "tags": []
     },
     "output_type": "execute_result"
    }
   ],
   "source": [
    "def grader_movies(data):\n",
    "    assert(len(data)==1292)\n",
    "    return True\n",
    "grader_movies(movie_nodes)"
   ]
  },
  {
   "cell_type": "code",
   "execution_count": null,
   "metadata": {
    "colab": {
     "base_uri": "https://localhost:8080/",
     "height": 248
    },
    "colab_type": "code",
    "id": "7kVualGaNtQ_",
    "outputId": "8daa20e1-83cc-4f52-df74-abdd651d673f"
   },
   "outputs": [
    {
     "data": {
      "image/png": "[encoded data removed]",
      "text/plain": [
       "<Figure size 432x288 with 1 Axes>"
      ]
     },
     "metadata": {
      "tags": []
     },
     "output_type": "display_data"
    }
   ],
   "source": [
    "import networkx as nx\n",
    "from networkx.algorithms import bipartite\n",
    "graded_graph= nx.Graph()\n",
    "graded_graph.add_nodes_from(['a1','a5','a10','a11'], bipartite=0) # Add the node attribute \"bipartite\"\n",
    "graded_graph.add_nodes_from(['m1','m2','m4','m6','m5','m8'], bipartite=1)\n",
    "graded_graph.add_edges_from([('a1','m1'),('a1','m2'),('a1','m4'),('a11','m6'),('a5','m5'),('a10','m8')])\n",
    "l={'a1','a5','a10','a11'};r={'m1','m2','m4','m6','m5','m8'}\n",
    "pos = {}\n",
    "pos.update((node, (1, index)) for index, node in enumerate(l))\n",
    "pos.update((node, (2, index)) for index, node in enumerate(r))\n",
    "nx.draw_networkx(graded_graph, pos=pos, with_labels=True,node_color='lightblue',alpha=0.8,style='dotted',node_size=500)"
   ]
  },
  {
   "cell_type": "markdown",
   "metadata": {
    "colab_type": "text",
    "id": "H3lNkjcPnbaN"
   },
   "source": [
    "#### Cost1"
   ]
  },
  {
   "cell_type": "code",
   "execution_count": null,
   "metadata": {
    "colab": {},
    "colab_type": "code",
    "id": "7rl2ImbzFbGk"
   },
   "outputs": [],
   "source": [
    "def cost1(graph,number_of_clusters):\n",
    "    sb = sorted(nx.connected_components(graph), key=len, reverse=True)\n",
    "    cc = graph.subgraph(sb[0])\n",
    "    \n",
    "    cost1= (1/number_of_clusters)*(cc.number_of_nodes()/len(graph.nodes()))\n",
    "    \n",
    "    return cost1"
   ]
  },
  {
   "cell_type": "markdown",
   "metadata": {
    "colab_type": "text",
    "id": "eqZaDxRxwfCm"
   },
   "source": [
    "<font color='cyan'>Grader function - 3</font>"
   ]
  },
  {
   "cell_type": "code",
   "execution_count": null,
   "metadata": {
    "colab": {
     "base_uri": "https://localhost:8080/",
     "height": 34
    },
    "colab_type": "code",
    "id": "zejWC7Z5Xxh_",
    "outputId": "a9c9b1f5-755b-4538-881a-0ed9561b0a5b"
   },
   "outputs": [
    {
     "data": {
      "text/plain": [
       "True"
      ]
     },
     "execution_count": 80,
     "metadata": {
      "tags": []
     },
     "output_type": "execute_result"
    }
   ],
   "source": [
    "graded_cost1=cost1(graded_graph,3)\n",
    "def grader_cost1(data):\n",
    "    assert(data==((1/3)*(4/10))) # 1/3 is number of clusters\n",
    "    return True\n",
    "grader_cost1(graded_cost1)"
   ]
  },
  {
   "cell_type": "markdown",
   "metadata": {
    "colab_type": "text",
    "id": "wWETwCNvnU3R"
   },
   "source": [
    "#### Cost2"
   ]
  },
  {
   "cell_type": "code",
   "execution_count": null,
   "metadata": {
    "colab": {},
    "colab_type": "code",
    "id": "O3auiuAPbUK7"
   },
   "outputs": [],
   "source": [
    "def cost2(graph,number_of_clusters):\n",
    "    f=0\n",
    "    anod=[]\n",
    "    mnod=set()\n",
    "    for k in graph:\n",
    "        if 'a' in k:\n",
    "            anod.append(k)  \n",
    "    for i in anod:\n",
    "        f+=graph.degree(i)   # sum of degrees of actor nodes\n",
    "    for j in graph:\n",
    "        if 'm' in j:      # unique movie nodes\n",
    "            mnod.add(j)\n",
    "\n",
    "    cost2= (1/number_of_clusters)*(f/len(mnod))\n",
    "    \n",
    "    return cost2"
   ]
  },
  {
   "cell_type": "markdown",
   "metadata": {
    "colab_type": "text",
    "id": "XPmNgkQSwgZg"
   },
   "source": [
    "<font color='cyan'>Grader function - 4</font>"
   ]
  },
  {
   "cell_type": "code",
   "execution_count": null,
   "metadata": {
    "colab": {
     "base_uri": "https://localhost:8080/",
     "height": 34
    },
    "colab_type": "code",
    "id": "1vLsrig99Tz3",
    "outputId": "c2300037-800c-4a58-f55e-cdd34e9940b8"
   },
   "outputs": [
    {
     "data": {
      "text/plain": [
       "True"
      ]
     },
     "execution_count": 82,
     "metadata": {
      "tags": []
     },
     "output_type": "execute_result"
    }
   ],
   "source": [
    "graded_cost2=cost2(graded_graph,3)\n",
    "def grader_cost2(data):\n",
    "    assert(data==((1/3)*(6/6))) # 1/3 is number of clusters\n",
    "    return True\n",
    "grader_cost2(graded_cost2)"
   ]
  },
  {
   "cell_type": "markdown",
   "metadata": {
    "colab_type": "text",
    "id": "ZwCKPXraPUYL"
   },
   "source": [
    "### Actor Nodes"
   ]
  },
  {
   "cell_type": "code",
   "execution_count": null,
   "metadata": {
    "colab": {},
    "colab_type": "code",
    "id": "2e8KFmxXM1qJ"
   },
   "outputs": [],
   "source": [
    "ar=[]\n",
    "for i in actor_embeddings:\n",
    "    c=i.tolist()\n",
    "    ar.append(c)          #converting actor_embeddings in to matrix of shape (3411,128)\n",
    "\n",
    "actor_matrix=np.asarray(ar)"
   ]
  },
  {
   "cell_type": "code",
   "execution_count": null,
   "metadata": {
    "colab": {
     "base_uri": "https://localhost:8080/",
     "height": 34
    },
    "colab_type": "code",
    "id": "e4taN2JHbUE_",
    "outputId": "8d91ce62-4137-4395-e66f-39fd711a0145"
   },
   "outputs": [
    {
     "data": {
      "text/plain": [
       "(3411, 128)"
      ]
     },
     "execution_count": 84,
     "metadata": {
      "tags": []
     },
     "output_type": "execute_result"
    }
   ],
   "source": [
    "actor_matrix.shape"
   ]
  },
  {
   "cell_type": "code",
   "execution_count": null,
   "metadata": {
    "colab": {},
    "colab_type": "code",
    "id": "mm2k9BPuuwEx"
   },
   "outputs": [],
   "source": [
    "clust = [3,5, 10, 30, 50, 100, 200, 500]\n",
    "def clusterform(data,type_nodes,cluster):\n",
    "   \n",
    "    ttcost=[]\n",
    "    for i in range(len(cluster)):\n",
    "        algo=KMeans(n_clusters=cluster[i], random_state=0)  #applying Kmeans on data\n",
    "        algo.fit(data)\n",
    "        j=algo.labels_\n",
    "        co=zip(type_nodes,j)       # combining respective nodes with the labels\n",
    "        comb=list(co)\n",
    "\n",
    "        box=[]\n",
    "        for k in range(cluster[i]):         # creating emptly lists to store similar labels\n",
    "            box.append([])\n",
    "\n",
    "        for j in range(cluster[i]):\n",
    "            for r in comb:\n",
    "                if r[1]==j:                   # storing similar labels \n",
    "                    box[j].append(r[0]) \n",
    "        actcost1=0\n",
    "        actcost2=0\n",
    "    \n",
    "        for v in box:\n",
    "            B1 = nx.Graph()                  # Initiating empty graph\n",
    "            for p in v:\n",
    "                c=nx.ego_graph(A,p)\n",
    "                B1.add_nodes_from(c.nodes)       # adding nodes and edges to graph \n",
    "                B1.add_edges_from(c.edges())\n",
    "            actcost1+=cost1(B1,cluster[i])        # calculating cost1 and cost2\n",
    "            actcost2+=cost2(B1,cluster[i])\n",
    "\n",
    "        totalcost=(actcost1*actcost2)            # Calculating total cost\n",
    "        ttcost.append(totalcost)\n",
    "        print(\"the total cost for\",cluster[i],\"clusters\",totalcost)\n",
    "    big=ttcost.index(max(ttcost))                 # Getting the cluster with highest cost \n",
    "    max_clust=cluster[big]\n",
    " \n",
    "    print(\"The cluster With max Cost=\",max_clust)\n",
    "    return max_clust"
   ]
  },
  {
   "cell_type": "code",
   "execution_count": null,
   "metadata": {
    "colab": {
     "base_uri": "https://localhost:8080/",
     "height": 170
    },
    "colab_type": "code",
    "id": "VmLws3CIvnzP",
    "outputId": "0a983a57-3b56-4c87-90c7-1a0aca5b3ec2"
   },
   "outputs": [
    {
     "name": "stdout",
     "output_type": "stream",
     "text": [
      "the total cost for 3 clusters 3.7925789428287184\n",
      "the total cost for 5 clusters 2.8100937362077727\n",
      "the total cost for 10 clusters 2.375475432140978\n",
      "the total cost for 30 clusters 1.6865972241189406\n",
      "the total cost for 50 clusters 1.6098273540432653\n",
      "the total cost for 100 clusters 1.5175726628203094\n",
      "the total cost for 200 clusters 1.7570709613437414\n",
      "the total cost for 500 clusters 1.8311602517454464\n",
      "The cluster With max Cost= 3\n"
     ]
    }
   ],
   "source": [
    "max_actor=clusterform(actor_matrix,actor_nodes,clust)"
   ]
  },
  {
   "cell_type": "markdown",
   "metadata": {
    "colab_type": "text",
    "id": "R7n-pDf1aAGx"
   },
   "source": [
    "#### Labels for each node"
   ]
  },
  {
   "cell_type": "code",
   "execution_count": null,
   "metadata": {
    "colab": {},
    "colab_type": "code",
    "id": "13jMuCVremZ0"
   },
   "outputs": [],
   "source": [
    "kmodel=KMeans(n_clusters=max_actor, random_state=0) \n",
    "kmodel.fit(actor_matrix)\n",
    "pred=kmodel.predict(actor_matrix)"
   ]
  },
  {
   "cell_type": "markdown",
   "metadata": {
    "colab_type": "text",
    "id": "-CNBZn6VzZMN"
   },
   "source": [
    "#### Performing dimensionality reduction"
   ]
  },
  {
   "cell_type": "code",
   "execution_count": null,
   "metadata": {
    "colab": {},
    "colab_type": "code",
    "id": "HMwE2QzMbhCv"
   },
   "outputs": [],
   "source": [
    "from sklearn.manifold import TSNE"
   ]
  },
  {
   "cell_type": "code",
   "execution_count": null,
   "metadata": {
    "colab": {},
    "colab_type": "code",
    "id": "GxKm-eEhzgIL"
   },
   "outputs": [],
   "source": [
    "actmodel = TSNE(n_components=2, random_state=0)\n",
    "act_red = actmodel.fit_transform(actor_matrix)"
   ]
  },
  {
   "cell_type": "code",
   "execution_count": null,
   "metadata": {
    "colab": {
     "base_uri": "https://localhost:8080/",
     "height": 34
    },
    "colab_type": "code",
    "id": "47SJ7wjamJw9",
    "outputId": "7c9beaa9-89f1-4b16-fde6-e2d374afe258"
   },
   "outputs": [
    {
     "data": {
      "text/plain": [
       "(3411, 3)"
      ]
     },
     "execution_count": 90,
     "metadata": {
      "tags": []
     },
     "output_type": "execute_result"
    }
   ],
   "source": [
    "stack_data=np.vstack((act_red .T,pred )).T\n",
    "stack_data.shape"
   ]
  },
  {
   "cell_type": "code",
   "execution_count": null,
   "metadata": {
    "colab": {},
    "colab_type": "code",
    "id": "VR7M8R-Qmabl"
   },
   "outputs": [],
   "source": [
    "actor_df = pd.DataFrame(data=stack_data, columns=(\"Dim_1\", \"Dim_2\", \"label\"))"
   ]
  },
  {
   "cell_type": "code",
   "execution_count": null,
   "metadata": {
    "colab": {
     "base_uri": "https://localhost:8080/",
     "height": 204
    },
    "colab_type": "code",
    "id": "c7jJ6j7umpYX",
    "outputId": "bd0d6828-10b2-49b6-cd3c-4cd0c0535bac"
   },
   "outputs": [
    {
     "data": {
      "text/html": [
       "<div>\n",
       "<style scoped>\n",
       "    .dataframe tbody tr th:only-of-type {\n",
       "        vertical-align: middle;\n",
       "    }\n",
       "\n",
       "    .dataframe tbody tr th {\n",
       "        vertical-align: top;\n",
       "    }\n",
       "\n",
       "    .dataframe thead th {\n",
       "        text-align: right;\n",
       "    }\n",
       "</style>\n",
       "<table border=\"1\" class=\"dataframe\">\n",
       "  <thead>\n",
       "    <tr style=\"text-align: right;\">\n",
       "      <th></th>\n",
       "      <th>Dim_1</th>\n",
       "      <th>Dim_2</th>\n",
       "      <th>label</th>\n",
       "    </tr>\n",
       "  </thead>\n",
       "  <tbody>\n",
       "    <tr>\n",
       "      <th>0</th>\n",
       "      <td>-47.294632</td>\n",
       "      <td>-43.465271</td>\n",
       "      <td>1.0</td>\n",
       "    </tr>\n",
       "    <tr>\n",
       "      <th>1</th>\n",
       "      <td>-42.677341</td>\n",
       "      <td>-47.419064</td>\n",
       "      <td>1.0</td>\n",
       "    </tr>\n",
       "    <tr>\n",
       "      <th>2</th>\n",
       "      <td>-47.394371</td>\n",
       "      <td>-44.007877</td>\n",
       "      <td>1.0</td>\n",
       "    </tr>\n",
       "    <tr>\n",
       "      <th>3</th>\n",
       "      <td>45.249214</td>\n",
       "      <td>-36.831120</td>\n",
       "      <td>2.0</td>\n",
       "    </tr>\n",
       "    <tr>\n",
       "      <th>4</th>\n",
       "      <td>-39.064537</td>\n",
       "      <td>-47.726528</td>\n",
       "      <td>1.0</td>\n",
       "    </tr>\n",
       "  </tbody>\n",
       "</table>\n",
       "</div>"
      ],
      "text/plain": [
       "       Dim_1      Dim_2  label\n",
       "0 -47.294632 -43.465271    1.0\n",
       "1 -42.677341 -47.419064    1.0\n",
       "2 -47.394371 -44.007877    1.0\n",
       "3  45.249214 -36.831120    2.0\n",
       "4 -39.064537 -47.726528    1.0"
      ]
     },
     "execution_count": 92,
     "metadata": {
      "tags": []
     },
     "output_type": "execute_result"
    }
   ],
   "source": [
    "actor_df.head()"
   ]
  },
  {
   "cell_type": "code",
   "execution_count": null,
   "metadata": {
    "colab": {
     "base_uri": "https://localhost:8080/",
     "height": 457
    },
    "colab_type": "code",
    "id": "BMrp2UKEmr17",
    "outputId": "8725b67c-788d-4eec-952e-841b44e87bbb"
   },
   "outputs": [
    {
     "data": {
      "image/png": "[encoded data removed]",
      "text/plain": [
       "<Figure size 483.875x432 with 1 Axes>"
      ]
     },
     "metadata": {
      "needs_background": "light",
      "tags": []
     },
     "output_type": "display_data"
    }
   ],
   "source": [
    "sns.FacetGrid(actor_df, hue=\"label\", size=6).map(plt.scatter, 'Dim_1', 'Dim_2').add_legend()\n",
    "plt.title('Actor node clusters')\n",
    "plt.show()"
   ]
  },
  {
   "cell_type": "markdown",
   "metadata": {
    "colab_type": "text",
    "id": "mc4E9tcIp9ac"
   },
   "source": [
    "#### Movie nodes"
   ]
  },
  {
   "cell_type": "code",
   "execution_count": null,
   "metadata": {
    "colab": {},
    "colab_type": "code",
    "id": "QlmjlbsEnAB5"
   },
   "outputs": [],
   "source": [
    "mov=[]\n",
    "for i in movie_embeddings:\n",
    "    c=i.tolist()\n",
    "    mov.append(c)\n",
    "\n",
    "movie_matrix=np.asarray(mov)"
   ]
  },
  {
   "cell_type": "code",
   "execution_count": null,
   "metadata": {
    "colab": {
     "base_uri": "https://localhost:8080/",
     "height": 34
    },
    "colab_type": "code",
    "id": "HL8tyjz8qKNw",
    "outputId": "dc50175c-7136-4109-8073-3c5caf800fd2"
   },
   "outputs": [
    {
     "data": {
      "text/plain": [
       "(1292, 128)"
      ]
     },
     "execution_count": 95,
     "metadata": {
      "tags": []
     },
     "output_type": "execute_result"
    }
   ],
   "source": [
    "movie_matrix.shape"
   ]
  },
  {
   "cell_type": "code",
   "execution_count": null,
   "metadata": {
    "colab": {},
    "colab_type": "code",
    "id": "SxIYhp1TrOT7"
   },
   "outputs": [],
   "source": [
    "def cost2(graph,number_of_clusters):\n",
    "    f=0\n",
    "    anod=[]\n",
    "    mnod=set()\n",
    "    for k in graph:\n",
    "        if 'm' in k:\n",
    "            anod.append(k)\n",
    "    for i in anod:\n",
    "        f+=graph.degree(i)\n",
    "    for j in graph:\n",
    "        if 'a' in j:\n",
    "            mnod.add(j)\n",
    "\n",
    "    cost2= (1/number_of_clusters)*(f/len(mnod))\n",
    "    \n",
    "    return cost2"
   ]
  },
  {
   "cell_type": "code",
   "execution_count": null,
   "metadata": {
    "colab": {
     "base_uri": "https://localhost:8080/",
     "height": 170
    },
    "colab_type": "code",
    "id": "xa4CvC-NqTWL",
    "outputId": "35ad36ad-00ff-4b1d-c452-ca12e0458ba9"
   },
   "outputs": [
    {
     "name": "stdout",
     "output_type": "stream",
     "text": [
      "the total cost for 3 clusters 2.780393893109941\n",
      "the total cost for 5 clusters 2.4206969765472115\n",
      "the total cost for 10 clusters 2.5545136608203975\n",
      "the total cost for 30 clusters 2.0965308141443164\n",
      "the total cost for 50 clusters 1.8346751318298329\n",
      "the total cost for 100 clusters 1.5557677561570187\n",
      "the total cost for 200 clusters 1.364728046356718\n",
      "the total cost for 500 clusters 1.2070805971486243\n",
      "The cluster With max Cost= 3\n"
     ]
    }
   ],
   "source": [
    "max_movie=clusterform(movie_matrix,movie_nodes,clust)"
   ]
  },
  {
   "cell_type": "code",
   "execution_count": null,
   "metadata": {
    "colab": {},
    "colab_type": "code",
    "id": "B6852T_xtamV"
   },
   "outputs": [],
   "source": [
    "kmodel1=KMeans(n_clusters=max_movie, random_state=0)\n",
    "kmodel1.fit(movie_matrix)\n",
    "pred1=kmodel1.predict(movie_matrix)"
   ]
  },
  {
   "cell_type": "code",
   "execution_count": null,
   "metadata": {
    "colab": {},
    "colab_type": "code",
    "id": "5D819BT6t52w"
   },
   "outputs": [],
   "source": [
    "movmodel = TSNE(n_components=2, random_state=0)\n",
    "mov_pred = movmodel.fit_transform(movie_matrix)"
   ]
  },
  {
   "cell_type": "code",
   "execution_count": null,
   "metadata": {
    "colab": {
     "base_uri": "https://localhost:8080/",
     "height": 34
    },
    "colab_type": "code",
    "id": "bPMu3_ZruI1p",
    "outputId": "08e20e94-1d09-4e5b-cf13-4b7194181d61"
   },
   "outputs": [
    {
     "data": {
      "text/plain": [
       "(1292, 3)"
      ]
     },
     "execution_count": 100,
     "metadata": {
      "tags": []
     },
     "output_type": "execute_result"
    }
   ],
   "source": [
    "stack_data1=np.vstack((mov_pred .T,pred1)).T\n",
    "stack_data1.shape"
   ]
  },
  {
   "cell_type": "code",
   "execution_count": null,
   "metadata": {
    "colab": {},
    "colab_type": "code",
    "id": "HnyyG6lyuo9q"
   },
   "outputs": [],
   "source": [
    "movie_df = pd.DataFrame(data=stack_data1, columns=(\"Dim_1\", \"Dim_2\", \"label\"))"
   ]
  },
  {
   "cell_type": "code",
   "execution_count": null,
   "metadata": {
    "colab": {
     "base_uri": "https://localhost:8080/",
     "height": 204
    },
    "colab_type": "code",
    "id": "H32oHXJJuupB",
    "outputId": "c8bbfe13-fa6e-4c70-cc10-3be5465ef7dd"
   },
   "outputs": [
    {
     "data": {
      "text/html": [
       "<div>\n",
       "<style scoped>\n",
       "    .dataframe tbody tr th:only-of-type {\n",
       "        vertical-align: middle;\n",
       "    }\n",
       "\n",
       "    .dataframe tbody tr th {\n",
       "        vertical-align: top;\n",
       "    }\n",
       "\n",
       "    .dataframe thead th {\n",
       "        text-align: right;\n",
       "    }\n",
       "</style>\n",
       "<table border=\"1\" class=\"dataframe\">\n",
       "  <thead>\n",
       "    <tr style=\"text-align: right;\">\n",
       "      <th></th>\n",
       "      <th>Dim_1</th>\n",
       "      <th>Dim_2</th>\n",
       "      <th>label</th>\n",
       "    </tr>\n",
       "  </thead>\n",
       "  <tbody>\n",
       "    <tr>\n",
       "      <th>0</th>\n",
       "      <td>22.402277</td>\n",
       "      <td>-6.511956</td>\n",
       "      <td>1.0</td>\n",
       "    </tr>\n",
       "    <tr>\n",
       "      <th>1</th>\n",
       "      <td>32.856472</td>\n",
       "      <td>17.013208</td>\n",
       "      <td>1.0</td>\n",
       "    </tr>\n",
       "    <tr>\n",
       "      <th>2</th>\n",
       "      <td>23.921610</td>\n",
       "      <td>-3.500080</td>\n",
       "      <td>1.0</td>\n",
       "    </tr>\n",
       "    <tr>\n",
       "      <th>3</th>\n",
       "      <td>9.109491</td>\n",
       "      <td>18.772274</td>\n",
       "      <td>1.0</td>\n",
       "    </tr>\n",
       "    <tr>\n",
       "      <th>4</th>\n",
       "      <td>23.147776</td>\n",
       "      <td>-2.725813</td>\n",
       "      <td>1.0</td>\n",
       "    </tr>\n",
       "  </tbody>\n",
       "</table>\n",
       "</div>"
      ],
      "text/plain": [
       "       Dim_1      Dim_2  label\n",
       "0  22.402277  -6.511956    1.0\n",
       "1  32.856472  17.013208    1.0\n",
       "2  23.921610  -3.500080    1.0\n",
       "3   9.109491  18.772274    1.0\n",
       "4  23.147776  -2.725813    1.0"
      ]
     },
     "execution_count": 102,
     "metadata": {
      "tags": []
     },
     "output_type": "execute_result"
    }
   ],
   "source": [
    "movie_df.head()"
   ]
  },
  {
   "cell_type": "code",
   "execution_count": null,
   "metadata": {
    "colab": {
     "base_uri": "https://localhost:8080/",
     "height": 457
    },
    "colab_type": "code",
    "id": "QlbzW_ifu2Xe",
    "outputId": "656b2cfc-85ac-4fa2-873b-76cc781accbe"
   },
   "outputs": [
    {
     "data": {
      "image/png": "[encoded data removed]",
      "text/plain": [
       "<Figure size 483.875x432 with 1 Axes>"
      ]
     },
     "metadata": {
      "needs_background": "light",
      "tags": []
     },
     "output_type": "display_data"
    }
   ],
   "source": [
    "sns.FacetGrid(movie_df, hue=\"label\", size=6).map(plt.scatter, 'Dim_1', 'Dim_2').add_legend()\n",
    "plt.title('movie node clusters')\n",
    "plt.show()"
   ]
  }
 ],
 "metadata": {
  "accelerator": "TPU",
  "colab": {
   "collapsed_sections": [],
   "machine_shape": "hm",
   "name": "clustering.ipynb",
   "provenance": []
  },
  "kernelspec": {
   "display_name": "Python 3",
   "language": "python",
   "name": "python3"
  },
  "language_info": {
   "codemirror_mode": {
    "name": "ipython",
    "version": 3
   },
   "file_extension": ".py",
   "mimetype": "text/x-python",
   "name": "python",
   "nbconvert_exporter": "python",
   "pygments_lexer": "ipython3",
   "version": "3.7.4"
  },
  "toc": {
   "base_numbering": 1,
   "nav_menu": {},
   "number_sections": true,
   "sideBar": true,
   "skip_h1_title": false,
   "title_cell": "Table of Contents",
   "title_sidebar": "Contents",
   "toc_cell": false,
   "toc_position": {},
   "toc_section_display": true,
   "toc_window_display": false
  }
 },
 "nbformat": 4,
 "nbformat_minor": 1
}
